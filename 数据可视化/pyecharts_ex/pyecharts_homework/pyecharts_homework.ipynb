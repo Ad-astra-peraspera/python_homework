{
 "cells": [
  {
   "cell_type": "code",
   "id": "initial_id",
   "metadata": {
    "collapsed": true,
    "ExecuteTime": {
     "end_time": "2025-05-16T00:46:51.375718Z",
     "start_time": "2025-05-16T00:46:50.974579Z"
    }
   },
   "source": [
    "from pyecharts.charts import Radar\n",
    "from pyecharts import options as opts\n",
    "import pandas as pd\n",
    "import numpy as np\n",
    "\n",
    "# 1. 读取数据\n",
    "df = pd.read_excel(\"grade.xlsx\")\n",
    "\n",
    "# 2. 构造五大能力维度\n",
    "df['听力理解能力'] = df[['新闻报道', '日常对话', '日常短文']].mean(axis=1)\n",
    "df['阅读理解能力'] = df[['阅读1', '阅读2', '阅读3', '阅读4']].mean(axis=1)\n",
    "df['语言知识与应用'] = df[['词汇知识', '语法知识', '语言应用']].mean(axis=1)\n",
    "df['口头表达能力'] = df[['语音语调准确度   &              话语连贯流利度',\n",
    "                       '语言准确度  &          可理解度',\n",
    "                       '话题内容广度    &          话题展开度 ',\n",
    "                       '交际互动活跃度     &           语言适切度']].mean(axis=1)\n",
    "df['书面表达能力'] = df[['内容', '结构', '语言', '交互']].mean(axis=1)\n",
    "\n",
    "# 3. 聚合：每个学院五大能力平均分\n",
    "ability_cols = ['听力理解能力', '阅读理解能力', '语言知识与应用', '口头表达能力', '书面表达能力']\n",
    "college_abilities = df.groupby(\"学院\")[ability_cols].mean()\n",
    "\n",
    "# 4. 构造雷达图指标\n",
    "schema = [\n",
    "    {\"name\": \"听力理解\", \"max\": 10},\n",
    "    {\"name\": \"阅读理解\", \"max\": 10},\n",
    "    {\"name\": \"语言知识\", \"max\": 10},\n",
    "    {\"name\": \"口头表达\", \"max\": 10},\n",
    "    {\"name\": \"书面表达\", \"max\": 10},\n",
    "]\n",
    "\n",
    "colors = [\"#5470C6\", \"#91CC75\", \"#EE6666\", \"#73C0DE\", \"#3BA272\",\n",
    "          \"#FC8452\", \"#9A60B4\", \"#EA7CCC\", \"#FAC858\", \"#6B8E23\",\n",
    "          \"#FF8C00\", \"#B22222\", \"#1E90FF\"]\n",
    "\n",
    "r = Radar(init_opts=opts.InitOpts(width=\"1000px\", height=\"700px\"))\n",
    "r.add_schema(schema=schema)\n",
    "\n",
    "for idx, (school, row) in enumerate(college_abilities.iterrows()):\n",
    "    r.add(\n",
    "        series_name=school,\n",
    "        data=[row.tolist()],\n",
    "        linestyle_opts=opts.LineStyleOpts(width=2, color=colors[idx % len(colors)]),\n",
    "        label_opts=opts.LabelOpts(is_show=False)\n",
    "    )\n",
    "\n",
    "r.set_global_opts(\n",
    "    title_opts=opts.TitleOpts(title=\"各学院能力雷达图\", pos_top=\"2%\"),\n",
    "    legend_opts=opts.LegendOpts(type_=\"scroll\", pos_top=\"10%\", pos_left=\"center\"),\n",
    ")\n",
    "\n",
    "\n",
    "# 9. 输出文件\n",
    "r.render(\"各学院五项能力雷达图.html\")\n",
    "print(\" 成功生成文件：各学院五项能力雷达图.html\")"
   ],
   "outputs": [
    {
     "name": "stdout",
     "output_type": "stream",
     "text": [
      " 成功生成文件：各学院五项能力雷达图.html\n"
     ]
    }
   ],
   "execution_count": 2
  },
  {
   "metadata": {
    "ExecuteTime": {
     "end_time": "2025-05-16T01:08:33.068523Z",
     "start_time": "2025-05-16T01:08:32.666635Z"
    }
   },
   "cell_type": "code",
   "source": [
    "from pyecharts.charts import Bar, Line, Grid\n",
    "from pyecharts import options as opts\n",
    "import pandas as pd\n",
    "import numpy as np\n",
    "\n",
    "# 读取数据\n",
    "df = pd.read_excel(\"grade.xlsx\")\n",
    "scores = df[\"原始总分\"].dropna()\n",
    "\n",
    "# 统计直方图分布\n",
    "bins = np.histogram_bin_edges(scores, bins=15)\n",
    "hist, edges = np.histogram(scores, bins=bins)\n",
    "x = [f\"{int(edges[i])}~{int(edges[i+1])}\" for i in range(len(edges)-1)]\n",
    "\n",
    "# 累计百分比（用于折线）\n",
    "cum_percent = np.cumsum(hist) / np.sum(hist) * 100\n",
    "\n",
    "# 创建柱状图\n",
    "bar = (\n",
    "    Bar()\n",
    "    .add_xaxis(x)\n",
    "    .add_yaxis(\"学生人数\", hist.tolist(), yaxis_index=0, label_opts=opts.LabelOpts(is_show=False))\n",
    "    .extend_axis(  # 添加第二个 Y 轴（右侧）\n",
    "        yaxis=opts.AxisOpts(\n",
    "            name=\"累计百分比\",\n",
    "            type_=\"value\",\n",
    "            min_=0,\n",
    "            max_=100,\n",
    "            axislabel_opts=opts.LabelOpts(formatter=\"{value}%\")\n",
    "        )\n",
    "    )\n",
    "    .set_global_opts(\n",
    "        title_opts=opts.TitleOpts(title=\"原始总分分布图（含累计曲线）\"),\n",
    "        xaxis_opts=opts.AxisOpts(name=\"原始总分\", axislabel_opts={\"rotate\": 45}),\n",
    "        yaxis_opts=opts.AxisOpts(name=\"学生人数\"),\n",
    "        tooltip_opts=opts.TooltipOpts(trigger=\"axis\", axis_pointer_type=\"cross\"),\n",
    "        legend_opts=opts.LegendOpts(pos_top=\"5%\")\n",
    "    )\n",
    ")\n",
    "\n",
    "# 创建折线图（累计百分比）\n",
    "line = (\n",
    "    Line()\n",
    "    .add_xaxis(x)\n",
    "    .add_yaxis(\"累计百分比\", cum_percent.tolist(), yaxis_index=1, label_opts=opts.LabelOpts(is_show=False), z=5)\n",
    "\n",
    ")\n",
    "\n",
    "# 合并\n",
    "bar.overlap(line)\n",
    "bar.render(\"原始总分_改进版分布图.html\")"
   ],
   "id": "3c433fb1bd99bce1",
   "outputs": [
    {
     "data": {
      "text/plain": [
       "'/Users/hemoqi/Documents/python_homework/数据可视化/pyecharts_ex/pyecharts_homework/原始总分_改进版分布图.html'"
      ]
     },
     "execution_count": 7,
     "metadata": {},
     "output_type": "execute_result"
    }
   ],
   "execution_count": 7
  },
  {
   "metadata": {
    "ExecuteTime": {
     "end_time": "2025-05-16T01:23:49.331538Z",
     "start_time": "2025-05-16T01:23:48.959382Z"
    }
   },
   "cell_type": "code",
   "source": [
    "from pyecharts.charts import Scatter, Timeline, Line\n",
    "from pyecharts import options as opts\n",
    "\n",
    "timeline = Timeline(init_opts=opts.InitOpts(width=\"900px\", height=\"600px\"))\n",
    "\n",
    "for dim in dimensions:\n",
    "    x_data = df[\"原始总分\"].tolist()\n",
    "    y_data = df[dim].tolist()\n",
    "\n",
    "    # 计算线性回归系数\n",
    "    z = np.polyfit(x_data, y_data, 1)\n",
    "    p = np.poly1d(z)\n",
    "    reg_line = [[x, p(x)] for x in sorted(x_data)]\n",
    "\n",
    "    # 计算相关系数\n",
    "    r = np.corrcoef(x_data, y_data)[0, 1]\n",
    "    subtitle = f\"相关系数 r = {r:.2f}\"\n",
    "\n",
    "    scatter = (\n",
    "        Scatter()\n",
    "        .add_xaxis(x_data)\n",
    "        .add_yaxis(dim, y_data, symbol_size=4, label_opts=opts.LabelOpts(is_show=False))\n",
    "        .set_series_opts()\n",
    "    )\n",
    "\n",
    "    line = (\n",
    "        Line()\n",
    "        .add_xaxis([x for x, _ in reg_line])\n",
    "        .add_yaxis(\"回归线\", [y for _, y in reg_line], is_symbol_show=False,\n",
    "                   linestyle_opts=opts.LineStyleOpts(type_=\"dashed\", width=2))\n",
    "    )\n",
    "\n",
    "    chart = scatter.overlap(line).set_global_opts(\n",
    "        title_opts=opts.TitleOpts(title=f\"{dim} vs 原始总分\", subtitle=subtitle),\n",
    "        xaxis_opts=opts.AxisOpts(name=\"原始总分\", min_=0, max_=120),\n",
    "        yaxis_opts=opts.AxisOpts(name=dim, min_=0, max_=10),\n",
    "        tooltip_opts=opts.TooltipOpts(trigger=\"item\", formatter=\"{b}: ({c})\"),\n",
    "    )\n",
    "\n",
    "    timeline.add(chart, time_point=dim)\n",
    "\n",
    "timeline.render(\"原始总分_五维度_动态散点图.html\")\n",
    "print(\" 成功生成：原始总分_五维度_动态散点图.html\")\n"
   ],
   "id": "fc23418db11d5f6e",
   "outputs": [
    {
     "name": "stdout",
     "output_type": "stream",
     "text": [
      " 成功生成：原始总分_五维度_动态散点图.html\n"
     ]
    }
   ],
   "execution_count": 15
  },
  {
   "metadata": {
    "ExecuteTime": {
     "end_time": "2025-05-16T01:35:07.623744Z",
     "start_time": "2025-05-16T01:35:07.616012Z"
    }
   },
   "cell_type": "code",
   "source": [
    "from pyecharts.charts import Bar\n",
    "from pyecharts import options as opts\n",
    "\n",
    "# 准备数据\n",
    "ability_cols = ['听力理解能力', '阅读理解能力', '语言知识与应用', '口头表达能力', '书面表达能力']\n",
    "college_abilities = df.groupby(\"学院\")[ability_cols].mean()\n",
    "\n",
    "# 横轴：学院列表\n",
    "x = list(college_abilities.index)\n",
    "\n",
    "# 每项能力作为一个系列（堆叠）\n",
    "bar = Bar(init_opts=opts.InitOpts(width=\"1000px\", height=\"600px\"))\n",
    "bar.add_xaxis(x)\n",
    "\n",
    "for col in ability_cols:\n",
    "    bar.add_yaxis(\n",
    "        series_name=col,\n",
    "        stack=\"总能力\",  # stack 参数实现堆叠\n",
    "        y_axis=college_abilities[col].round(2).tolist(),\n",
    "        label_opts=opts.LabelOpts(is_show=False)\n",
    "    )\n",
    "\n",
    "# 图配置\n",
    "bar.set_global_opts(\n",
    "    title_opts=opts.TitleOpts(title=\"各学院五项能力构成对比（堆叠条形图）\"),\n",
    "    xaxis_opts=opts.AxisOpts(name=\"学院\", axislabel_opts={\"rotate\": 30}),\n",
    "    yaxis_opts=opts.AxisOpts(name=\"平均得分（堆叠）\"),\n",
    "    tooltip_opts=opts.TooltipOpts(trigger=\"axis\", axis_pointer_type=\"shadow\"),\n",
    "    legend_opts=opts.LegendOpts(pos_top=\"5%\")\n",
    ")\n",
    "\n",
    "bar.render(\"各学院能力堆叠条形图.html\")\n",
    "print(\"成功生成：各学院能力堆叠条形图.html\")"
   ],
   "id": "16aafa8965a03c",
   "outputs": [
    {
     "name": "stdout",
     "output_type": "stream",
     "text": [
      "成功生成：各学院能力堆叠条形图.html\n"
     ]
    }
   ],
   "execution_count": 18
  },
  {
   "metadata": {
    "ExecuteTime": {
     "end_time": "2025-05-16T01:39:31.123910Z",
     "start_time": "2025-05-16T01:39:31.112994Z"
    }
   },
   "cell_type": "code",
   "source": [
    "from pyecharts.charts import Boxplot, Scatter, Grid\n",
    "from pyecharts import options as opts\n",
    "\n",
    "# 提取每个学院的口头表达能力得分\n",
    "col_name = \"口头表达能力\"\n",
    "grouped = df.groupby(\"学院\")[col_name]\n",
    "x = list(grouped.groups.keys())  # 学院列表\n",
    "y_raw = [group.tolist() for _, group in grouped]\n",
    "\n",
    "# 准备 boxplot 数据结构\n",
    "boxplot = Boxplot()\n",
    "y_box = boxplot.prepare_data(y_raw)\n",
    "\n",
    "# 创建 boxplot\n",
    "b = (\n",
    "    Boxplot()\n",
    "    .add_xaxis(x)\n",
    "    .add_yaxis(\"箱线图\", y_box)\n",
    "    .set_global_opts(\n",
    "        title_opts=opts.TitleOpts(title=f\"各学院 {col_name} 分布（pyecharts改进版）\"),\n",
    "        xaxis_opts=opts.AxisOpts(name=\"学院\", axislabel_opts={\"rotate\": 45}),\n",
    "        yaxis_opts=opts.AxisOpts(name=col_name, min_=0, max_=10),\n",
    "        tooltip_opts=opts.TooltipOpts(trigger=\"item\", axis_pointer_type=\"shadow\"),\n",
    "        legend_opts=opts.LegendOpts(pos_top=\"5%\"),\n",
    "    )\n",
    ")\n",
    "\n",
    "# 创建分布点图（重现“分布轮廓”效果）\n",
    "scatter = Scatter()\n",
    "scatter.add_xaxis(x)\n",
    "for i, group in enumerate(y_raw):\n",
    "    scatter.add_yaxis(\"\", group, xaxis_index=0, yaxis_index=0,\n",
    "                      symbol_size=4, label_opts=opts.LabelOpts(is_show=False))\n",
    "\n",
    "# 合并展示\n",
    "b.overlap(scatter).render(\"各学院口头表达能力分布_改进版.html\")\n",
    "print(\"成功生成：各学院口头表达能力分布_改进版.html\")"
   ],
   "id": "308824b2f648c5c0",
   "outputs": [
    {
     "name": "stdout",
     "output_type": "stream",
     "text": [
      "成功生成：各学院口头表达能力分布_改进版.html\n"
     ]
    }
   ],
   "execution_count": 19
  },
  {
   "metadata": {},
   "cell_type": "code",
   "outputs": [],
   "execution_count": null,
   "source": "",
   "id": "6e88f9a19426808c"
  }
 ],
 "metadata": {
  "kernelspec": {
   "display_name": "Python 3",
   "language": "python",
   "name": "python3"
  },
  "language_info": {
   "codemirror_mode": {
    "name": "ipython",
    "version": 2
   },
   "file_extension": ".py",
   "mimetype": "text/x-python",
   "name": "python",
   "nbconvert_exporter": "python",
   "pygments_lexer": "ipython2",
   "version": "2.7.6"
  }
 },
 "nbformat": 4,
 "nbformat_minor": 5
}
