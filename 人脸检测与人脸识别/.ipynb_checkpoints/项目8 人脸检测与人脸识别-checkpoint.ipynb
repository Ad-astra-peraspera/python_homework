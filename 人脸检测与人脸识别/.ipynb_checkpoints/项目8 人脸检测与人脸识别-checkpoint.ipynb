{
 "cells": [
  {
   "cell_type": "markdown",
   "metadata": {},
   "source": [
    "## 项目八 人脸检测与人脸识别应用"
   ]
  },
  {
   "cell_type": "markdown",
   "metadata": {},
   "source": [
    "### 环境准备"
   ]
  },
  {
   "cell_type": "code",
   "execution_count": null,
   "metadata": {},
   "outputs": [],
   "source": [
    "# 人脸检测用到\n",
    "!pip install opencv-python\n",
    "# 人脸识别用到\n",
    "!pip install opencv-contrib-python"
   ]
  },
  {
   "cell_type": "markdown",
   "metadata": {},
   "source": [
    "### 一、 图像中的人脸检测"
   ]
  },
  {
   "cell_type": "markdown",
   "metadata": {},
   "source": [
    "#### 1.1 从\"people.jpg\"中检测人脸"
   ]
  },
  {
   "cell_type": "code",
   "execution_count": 7,
   "metadata": {},
   "outputs": [],
   "source": [
    "#coding:utf-8\n",
    "import numpy as np\n",
    "import cv2 as cv\n",
    "# 加载脸部特征识别器\n",
    "face_cascade = cv.CascadeClassifier('./cascade_files/haarcascade_frontalface_alt.xml')\n",
    "# 读取图片\n",
    "img = cv.imread('./people.jpg')\n",
    "\n",
    "# 将图片转化成灰度\n",
    "gray = cv.cvtColor(img, cv.COLOR_BGR2GRAY)\n",
    "# 设置特征的检测窗口\n",
    "faces = face_cascade.detectMultiScale(gray, 1.3, 5)\n",
    "for (x,y,w,h) in faces:\n",
    "    cv.rectangle(img,(x,y),(x+w,y+h),(255,0,0),2)\n",
    "\n",
    "cv.imshow('Face Detector',img)\n",
    "cv.waitKey(0)\n",
    "cv.destroyAllWindows()"
   ]
  },
  {
   "cell_type": "markdown",
   "metadata": {},
   "source": [
    "#### 1.2 图像中的鼻子检测"
   ]
  },
  {
   "cell_type": "code",
   "execution_count": 8,
   "metadata": {},
   "outputs": [],
   "source": [
    "#coding:utf-8\n",
    "import numpy as np\n",
    "import cv2 as cv\n",
    "face_cascade = cv.CascadeClassifier('cascade_files/haarcascade_frontalface_alt.xml')\n",
    "nose_cascade = cv.CascadeClassifier('cascade_files/haarcascade_mcs_nose.xml')\n",
    "img = cv.imread('people.jpg')\n",
    "gray = cv.cvtColor(img, cv.COLOR_BGR2GRAY)\n",
    "\n",
    "faces = face_cascade.detectMultiScale(gray, 1.3, 5)\n",
    "for (x,y,w,h) in faces:\n",
    "    cv.rectangle(img,(x,y),(x+w,y+h),(255,0,0),2)\n",
    "    roi_gray = gray[y:y+h, x:x+w]\n",
    "    roi_color = img[y:y+h, x:x+w]\n",
    "    noses = nose_cascade.detectMultiScale(roi_gray,1.3,5)\n",
    "    for (ex,ey,ew,eh) in noses:\n",
    "        cv.rectangle(roi_color,(ex,ey),(ex+ew,ey+eh),(0,255,0),2)\n",
    "        break\n",
    "\n",
    "cv.imshow('Face + Nose Detector...',img)\n",
    "cv.waitKey(0)\n",
    "cv.destroyAllWindows()"
   ]
  },
  {
   "cell_type": "markdown",
   "metadata": {},
   "source": [
    "### 二、视频中的人脸检测"
   ]
  },
  {
   "cell_type": "markdown",
   "metadata": {},
   "source": [
    "#### 2.1 调用视频接口"
   ]
  },
  {
   "cell_type": "code",
   "execution_count": 12,
   "metadata": {},
   "outputs": [],
   "source": [
    "#!/usr/bin/Python\n",
    "# -*- coding: utf-8 -*-\n",
    "import cv2\n",
    "import time\n",
    "# 初始化\n",
    "cap = cv2.VideoCapture(0)\n",
    "# 视频绽放大小\n",
    "scaling_factor = 0.5\n",
    "#循环摄像，直至点击ESC键\n",
    "i = 0\n",
    "while True:\n",
    "    # 读取一帧\n",
    "    ret, frame = cap.read()\n",
    "    #图像大小缩放\n",
    "    frame = cv2.resize(frame, None, fx=scaling_factor, fy=scaling_factor,\n",
    "            interpolation=cv2.INTER_AREA)\n",
    "    #显示图像\n",
    "    cv2.imshow('camera', frame)\n",
    "    # 获取键盘事件\n",
    "    c = cv2.waitKey(1)\n",
    "    if c ==ord('s'):\n",
    "        i = i + 1;\n",
    "        cv2.imwrite('img' + time.strftime('%m-%d-%S', time.localtime(time.time()))  + str(i) + '.jpg', frame)\n",
    "    elif c == 27: #ESC\n",
    "        break\n",
    "# 释放摄像头\n",
    "cap.release()\n",
    "# 关闭窗口\n",
    "cv2.destroyAllWindows()"
   ]
  },
  {
   "cell_type": "markdown",
   "metadata": {},
   "source": [
    "#### 2.2  人脸检测"
   ]
  },
  {
   "cell_type": "code",
   "execution_count": 13,
   "metadata": {},
   "outputs": [],
   "source": [
    "#!/usr/bin/Python\n",
    "# -*- coding: utf-8 -*-\n",
    "\n",
    "import cv2\n",
    "import numpy as np\n",
    "\n",
    "# Load the face cascade file\n",
    "face_cascade = cv2.CascadeClassifier('cascade_files/haarcascade_frontalface_alt.xml')\n",
    "\n",
    "# Check if the face cascade file has been loaded\n",
    "if face_cascade.empty():\n",
    "   raise IOError('Unable to load the face cascade classifier xml file')\n",
    "\n",
    "# Initialize the video capture object\n",
    "cap = cv2.VideoCapture(0)\n",
    "\n",
    "# Define the scaling factor\n",
    "scaling_factor = 0.5\n",
    "\n",
    "# 点击ESC退出\n",
    "while True:\n",
    "    # Capture the current frame and resize it\n",
    "    ret, frame = cap.read()\n",
    "    frame = cv2.resize(frame, None, fx=scaling_factor, fy=scaling_factor, \n",
    "            interpolation=cv2.INTER_AREA)\n",
    "\n",
    "    # Convert to grayscale\n",
    "    gray = cv2.cvtColor(frame, cv2.COLOR_BGR2GRAY)\n",
    "\n",
    "    # Run the face detector on the grayscale image\n",
    "    face_rects = face_cascade.detectMultiScale(gray, 1.3, 5)\n",
    "\n",
    "    # Draw rectangles on the image\n",
    "    for (x,y,w,h) in face_rects:\n",
    "        cv2.rectangle(frame, (x,y), (x+w,y+h), (255,0,0), 2)\n",
    "\n",
    "    # Display the image\n",
    "    cv2.imshow('Face Detector-Camera', frame)\n",
    "\n",
    "    # Check if Esc key has been pressed\n",
    "    c = cv2.waitKey(1)\n",
    "    if c == 27:\n",
    "        break\n",
    "\n",
    "cap.release()\n",
    "cv2.destroyAllWindows()\n"
   ]
  },
  {
   "cell_type": "markdown",
   "metadata": {},
   "source": [
    "#### 2.3 检测鼻子"
   ]
  },
  {
   "cell_type": "code",
   "execution_count": 14,
   "metadata": {},
   "outputs": [],
   "source": [
    "import cv2\n",
    "import numpy as np\n",
    "\n",
    "# Load the face cascade file\n",
    "face_cascade = cv2.CascadeClassifier('cascade_files/haarcascade_frontalface_alt.xml')\n",
    "nose_cascade = cv2.CascadeClassifier('cascade_files/haarcascade_mcs_nose.xml')\n",
    "\n",
    "# Check if the face cascade file has been loaded\n",
    "if face_cascade.empty():\n",
    "   raise IOError('Unable to load the face cascade classifier xml file')\n",
    "\n",
    "# Initialize the video capture object\n",
    "cap = cv2.VideoCapture(0)\n",
    "\n",
    "# Define the scaling factor\n",
    "scaling_factor = 0.5\n",
    "\n",
    "# Loop until you hit the Esc key\n",
    "while True:\n",
    "    # Capture the current frame and resize it\n",
    "    ret, frame = cap.read()\n",
    "    frame = cv2.resize(frame, None, fx=scaling_factor, fy=scaling_factor,\n",
    "            interpolation=cv2.INTER_AREA)\n",
    "\n",
    "    # Convert to grayscale\n",
    "    gray = cv2.cvtColor(frame, cv2.COLOR_BGR2GRAY)\n",
    "\n",
    "    # Run the face detector on the grayscale image\n",
    "    face_rects = face_cascade.detectMultiScale(gray, 1.3, 5)\n",
    "\n",
    "    # Draw rectangles on the image\n",
    "    for (x,y,w,h) in face_rects:\n",
    "        cv2.rectangle(frame, (x,y), (x+w,y+h), (0,255,0), 2)\n",
    "        roi_gray = gray[y:y + h, x:x + w]\n",
    "        roi_color = frame[y:y + h, x:x + w]\n",
    "        noses = nose_cascade.detectMultiScale(roi_gray, 1.3, 5)\n",
    "        for (ex, ey, ew, eh) in noses:\n",
    "            cv2.rectangle(roi_color, (ex, ey), (ex + ew, ey + eh), (0, 0, 255), 1)\n",
    "            break\n",
    "    # Display the image\n",
    "    cv2.imshow('Face and Nose Detector - Camera', frame)\n",
    "\n",
    "    # Check if Esc key has been pressed\n",
    "    c = cv2.waitKey(1)\n",
    "    if c == 27:\n",
    "        break\n",
    "\n",
    "# Release the video capture object and close all windows\n",
    "cap.release()\n",
    "cv2.destroyAllWindows()\n"
   ]
  },
  {
   "cell_type": "markdown",
   "metadata": {},
   "source": [
    "### 三、 图像中的人脸识别"
   ]
  },
  {
   "cell_type": "markdown",
   "metadata": {},
   "source": [
    "### 3.1 人脸识别训练与应用"
   ]
  },
  {
   "cell_type": "code",
   "execution_count": 15,
   "metadata": {},
   "outputs": [
    {
     "ename": "AttributeError",
     "evalue": "module 'cv2.cv2' has no attribute 'face'",
     "output_type": "error",
     "traceback": [
      "\u001b[1;31m---------------------------------------------------------------------------\u001b[0m",
      "\u001b[1;31mAttributeError\u001b[0m                            Traceback (most recent call last)",
      "\u001b[1;32m<ipython-input-15-e9c9f765eba8>\u001b[0m in \u001b[0;36m<module>\u001b[1;34m()\u001b[0m\n\u001b[0;32m     67\u001b[0m \u001b[1;33m\u001b[0m\u001b[0m\n\u001b[0;32m     68\u001b[0m     \u001b[1;31m# 人脸识别方法初始化\u001b[0m\u001b[1;33m\u001b[0m\u001b[1;33m\u001b[0m\u001b[0m\n\u001b[1;32m---> 69\u001b[1;33m     \u001b[0mrecognizer\u001b[0m \u001b[1;33m=\u001b[0m \u001b[0mcv2\u001b[0m\u001b[1;33m.\u001b[0m\u001b[0mface\u001b[0m\u001b[1;33m.\u001b[0m\u001b[0mLBPHFaceRecognizer_create\u001b[0m\u001b[1;33m(\u001b[0m\u001b[1;33m)\u001b[0m\u001b[1;33m\u001b[0m\u001b[0m\n\u001b[0m\u001b[0;32m     70\u001b[0m     \u001b[1;31m# 获取训练数据集\u001b[0m\u001b[1;33m\u001b[0m\u001b[1;33m\u001b[0m\u001b[0m\n\u001b[0;32m     71\u001b[0m     \u001b[0mimages\u001b[0m\u001b[1;33m,\u001b[0m \u001b[0mlabels\u001b[0m\u001b[1;33m,\u001b[0m \u001b[0mle\u001b[0m \u001b[1;33m=\u001b[0m \u001b[0mget_images_and_labels\u001b[0m\u001b[1;33m(\u001b[0m\u001b[0mpath_train\u001b[0m\u001b[1;33m)\u001b[0m\u001b[1;33m\u001b[0m\u001b[0m\n",
      "\u001b[1;31mAttributeError\u001b[0m: module 'cv2.cv2' has no attribute 'face'"
     ]
    }
   ],
   "source": [
    "#!/usr/bin/Python\n",
    "# -*- coding: utf-8 -*-\n",
    "\n",
    "import os\n",
    "import cv2\n",
    "import numpy as np\n",
    "from sklearn import preprocessing\n",
    "\n",
    "# 为图像做标记，并将文字转化为数字，再训练\n",
    "class LabelEncoder(object):\n",
    "    # 编码：文字到数字\n",
    "    def encode_labels(self, label_words):\n",
    "        self.le = preprocessing.LabelEncoder()\n",
    "        self.le.fit(label_words)\n",
    "\n",
    "    # 数字转换成文字\n",
    "    def word_to_num(self, label_word):\n",
    "        return int(self.le.transform([label_word])[0])\n",
    "\n",
    "    # 数学到文字的转换\n",
    "    def num_to_word(self, label_num):\n",
    "        return self.le.inverse_transform([label_num])[0]\n",
    "\n",
    "# 根据路径获取图片\n",
    "def get_images_and_labels(input_path):\n",
    "    label_words = []\n",
    "\n",
    "    # 循环读取所有图片\n",
    "    for root, dirs, files in os.walk(input_path):\n",
    "        for filename in (x for x in files if x.endswith('.jpg')):\n",
    "            filepath = os.path.join(root, filename)\n",
    "            label_words.append(filepath.split('\\\\')[-2])\n",
    "            \n",
    "    # 编码\n",
    "    images = []\n",
    "    le = LabelEncoder()\n",
    "    le.encode_labels(label_words)\n",
    "    labels = []\n",
    "\n",
    "    # Parse the input directory\n",
    "    for root, dirs, files in os.walk(input_path):\n",
    "        for filename in (x for x in files if x.endswith('.jpg')):\n",
    "            filepath = os.path.join(root, filename)\n",
    "\n",
    "            # 读入灰度图\n",
    "            image = cv2.imread(filepath, 0) \n",
    "\n",
    "            # 获取标记\n",
    "            name = filepath.split('\\\\')[-2]\n",
    "\n",
    "            # 检测是否有人脸，并获得人脸数据\n",
    "            faces = faceCascade.detectMultiScale(image, 1.1, 2, minSize=(100,100))\n",
    "\n",
    "            # 输入每个人脸\n",
    "            for (x, y, w, h) in faces:\n",
    "                images.append(image[y:y+h, x:x+w])\n",
    "                labels.append(le.word_to_num(name))\n",
    "\n",
    "    return images, labels, le\n",
    "if __name__=='__main__':\n",
    "    cascade_path = \"cascade_files/haarcascade_frontalface_alt.xml\"\n",
    "    path_train = 'faces_dataset/train'\n",
    "    path_test = 'faces_dataset/test'\n",
    "\n",
    "    # 人脸检测训练结果读取\n",
    "    faceCascade = cv2.CascadeClassifier(cascade_path)\n",
    "\n",
    "    # 人脸识别方法初始化\n",
    "    recognizer = cv2.face.LBPHFaceRecognizer_create()\n",
    "    # 获取训练数据集\n",
    "    images, labels, le = get_images_and_labels(path_train)\n",
    "\n",
    "    # 模型训练\n",
    "    print (u\"\\n使用训练集对模型进行训练...\")\n",
    "    print (labels)\n",
    "    recognizer.train(images, np.array(labels))\n",
    "\n",
    "    # 识别测试数据集\n",
    "    print (u'\\n识别图像中的人脸...')\n",
    "    stop_flag = False\n",
    "    for root, dirs, files in os.walk(path_test):\n",
    "        for filename in (x for x in files if x.endswith('.jpg')):\n",
    "            filepath = os.path.join(root, filename)\n",
    "            predict_image = cv2.imread(filepath,0)\n",
    "\n",
    "            # 人脸检测\n",
    "            faces = faceCascade.detectMultiScale(predict_image, 1.1, \n",
    "                    2, minSize=(100,100))\n",
    "\n",
    "            # 人脸识别\n",
    "            for (x, y, w, h) in faces:\n",
    "                # 识别\n",
    "                predicted_index, conf = recognizer.predict(\n",
    "                        predict_image[y:y+h, x:x+w])\n",
    "\n",
    "                # 文字到数字的转换\n",
    "                predicted_person = le.num_to_word(predicted_index)\n",
    "\n",
    "                # 显示结果（彩色）\n",
    "                predict_image = cv2.imread(filepath)\n",
    "                cv2.putText(predict_image, predicted_person,\n",
    "                        (10,60), cv2.FONT_HERSHEY_SIMPLEX, 2, (0,255,255), 6)\n",
    "                cv2.imshow(\"result\", predict_image)\n",
    "\n",
    "                cv2.waitKey(0)\n",
    "                stop_flag = True\n",
    "                break\n",
    "\n",
    "        if stop_flag:\n",
    "            break\n"
   ]
  },
  {
   "cell_type": "markdown",
   "metadata": {},
   "source": [
    "### 3.2 保存模型为xml文件"
   ]
  },
  {
   "cell_type": "code",
   "execution_count": null,
   "metadata": {},
   "outputs": [],
   "source": [
    "# 模型训练\n",
    "print(\"\\n使用训练集对模型进行训练...\")\n",
    "recognizer.train(images, np.array(labels))\n",
    "recognizer.save('my_LBPHFaceRecognizer.xml')\n"
   ]
  },
  {
   "cell_type": "markdown",
   "metadata": {},
   "source": [
    "### 3.3  读取并使用模型代码。"
   ]
  },
  {
   "cell_type": "code",
   "execution_count": null,
   "metadata": {
    "collapsed": true
   },
   "outputs": [],
   "source": [
    "# 读取训练模型\n",
    "print('\\n读取模型...')\n",
    "recognizer.read('my_LBPHFaceRecognizer.xml')\n"
   ]
  },
  {
   "cell_type": "markdown",
   "metadata": {},
   "source": [
    "### 3.4 保存识别的结果"
   ]
  },
  {
   "cell_type": "code",
   "execution_count": null,
   "metadata": {
    "collapsed": true
   },
   "outputs": [],
   "source": [
    "cv2.imwrite(\"result-\"+predicted_person+'.jpg', predict_image)"
   ]
  },
  {
   "cell_type": "markdown",
   "metadata": {},
   "source": [
    "### 3.5 修改显示格式"
   ]
  },
  {
   "cell_type": "code",
   "execution_count": null,
   "metadata": {
    "collapsed": true
   },
   "outputs": [],
   "source": [
    "# 显示结果（彩色）\n",
    "predict_image = cv2.imread(filepath)\n",
    "cv2.rectangle(predict_image, (x, y), (x + w, y + h), (0, 0, 255), 2)\n",
    "cv2.rectangle(predict_image, (x, y + h - 35), (x + w, y + h), (0, 0, 255), 2)\n",
    "cv2.putText(predict_image, predicted_person,\n",
    "        (x + 6,y + h - 6),cv2.FONT_HERSHEY_DUPLEX, 1.5, (255,255,255), 2)\n",
    "cv2.imshow(\"result\", predict_image)\n",
    "cv2.imwrite(\"result-\" + predicted_person + '.jpg', predict_image)\n"
   ]
  },
  {
   "cell_type": "markdown",
   "metadata": {},
   "source": [
    "## 四、视频中的人脸识别"
   ]
  },
  {
   "cell_type": "code",
   "execution_count": null,
   "metadata": {},
   "outputs": [
    {
     "name": "stdout",
     "output_type": "stream",
     "text": [
      "\n",
      "读取模型...\n",
      "\n",
      "识别视频中的人脸...\n"
     ]
    }
   ],
   "source": [
    "import os\n",
    "import cv2\n",
    "import numpy as np\n",
    "from sklearn import preprocessing\n",
    "\n",
    "\n",
    "# 为图像做标记，并将文字转化为数字，再训练\n",
    "class LabelEncoder(object):\n",
    "    # 编码：文字到数字\n",
    "    def encode_labels(self, label_words):\n",
    "        self.le = preprocessing.LabelEncoder()\n",
    "        self.le.fit(label_words)\n",
    "\n",
    "    # 数字转换成文字\n",
    "    def word_to_num(self, label_word):\n",
    "        return int(self.le.transform([label_word])[0])\n",
    "\n",
    "    # 数学到文字的转换\n",
    "    def num_to_word(self, label_num):\n",
    "        return self.le.inverse_transform([label_num])[0]\n",
    "\n",
    "\n",
    "# 根据路径获取图片\n",
    "def get_images_and_labels(input_path):\n",
    "    label_words = []\n",
    "\n",
    "    # 循环读取所有图片\n",
    "    for root, dirs, files in os.walk(input_path):\n",
    "        for filename in (x for x in files if x.endswith('.jpg')):\n",
    "            filepath = os.path.join(root, filename)\n",
    "            label_words.append(filepath.split('\\\\')[-2])\n",
    "\n",
    "    # 编码\n",
    "    images = []\n",
    "    le = LabelEncoder()\n",
    "    le.encode_labels(label_words)\n",
    "    labels = []\n",
    "\n",
    "    # Parse the input directory\n",
    "    for root, dirs, files in os.walk(input_path):\n",
    "        for filename in (x for x in files if x.endswith('.jpg')):\n",
    "            filepath = os.path.join(root, filename)\n",
    "\n",
    "            # 读入灰度图\n",
    "            image = cv2.imread(filepath, 0)\n",
    "\n",
    "            # 获取标记\n",
    "            name = filepath.split('\\\\')[-2]\n",
    "\n",
    "            # 检测是否有人脸，并获得人脸数据\n",
    "            faces = face_cascade.detectMultiScale(image, 1.1, 2, minSize=(100, 100))\n",
    "\n",
    "            # 输入每个人脸\n",
    "            for (x, y, w, h) in faces:\n",
    "                images.append(image[y:y + h, x:x + w])\n",
    "                labels.append(le.word_to_num(name))\n",
    "\n",
    "    return images, labels, le\n",
    "\n",
    "\n",
    "if __name__ == '__main__':\n",
    "    cascade_path = \"cascade_files/haarcascade_frontalface_alt.xml\"\n",
    "    path_train = 'faces_dataset/train'\n",
    "    path_test = 'faces_dataset/test'\n",
    "\n",
    "    # 人脸检测训练结果读取\n",
    "    face_cascade = cv2.CascadeClassifier(cascade_path)\n",
    "\n",
    "    # 人脸识别方法初始化\n",
    "    recognizer = cv2.face.LBPHFaceRecognizer_create()\n",
    "    # 获取训练数据集\n",
    "    images, labels, le = get_images_and_labels(path_train)\n",
    "\n",
    "    # 读取训练模型\n",
    "    print (u'\\n读取模型...')\n",
    "    recognizer.read('my_LBPHFaceRecognizer.xml')\n",
    "\n",
    "    # 识别测试数据集\n",
    "    print (u'\\n识别视频中的人脸...')\n",
    "\n",
    "    cap = cv2.VideoCapture(0)\n",
    "    # Define the scaling factor\n",
    "    scaling_factor = 0.8\n",
    "\n",
    "    # 点击ESC退出\n",
    "    while True:\n",
    "        # Capture the current frame and resize it\n",
    "        ret, frame = cap.read()\n",
    "        frame = cv2.resize(frame, None, fx=scaling_factor, fy=scaling_factor,\n",
    "                           interpolation=cv2.INTER_AREA)\n",
    "\n",
    "\n",
    "        # Convert to grayscale\n",
    "        gray = cv2.cvtColor(frame, cv2.COLOR_BGR2GRAY)\n",
    "\n",
    "        # Run the face detector on the grayscale image\n",
    "        face_rects = face_cascade.detectMultiScale(gray, 1.3, 5)\n",
    "        predicted_person = ''\n",
    "        # Draw rectangles on the image\n",
    "        for (x, y, w, h) in face_rects:\n",
    "            cv2.rectangle(frame, (x, y), (x + w, y + h), (0, 0, 255), 2)\n",
    "\n",
    "            predicted_index, conf = recognizer.predict(\n",
    "                gray[y:y + h, x:x + w])\n",
    "\n",
    "            # 文字到数字的转换\n",
    "            predicted_person = le.num_to_word(predicted_index)\n",
    "\n",
    "            cv2.rectangle(frame, (x, y + h - 30), (x + w, y + h), (0, 0, 255), 2)\n",
    "            cv2.putText(frame[y:y + h, x:x + w], predicted_person,\n",
    "                    (6,h - 4), cv2.FONT_HERSHEY_SIMPLEX, 1, (255, 255, 255), 2)\n",
    "\n",
    "\n",
    "        # Display the image\n",
    "        cv2.imshow(\"result\", frame)\n",
    "        # Check if Esc key has been pressed\n",
    "        c = cv2.waitKey(1)\n",
    "        if c == 27:\n",
    "            break\n",
    "\n",
    "    cap.release()\n",
    "    cv2.destroyAllWindows()\n"
   ]
  },
  {
   "cell_type": "markdown",
   "metadata": {},
   "source": [
    "### 【进阶练习】格式化矩形框"
   ]
  },
  {
   "cell_type": "code",
   "execution_count": null,
   "metadata": {
    "collapsed": true
   },
   "outputs": [],
   "source": [
    "cv2.rectangle(frame, (x, y + h - 30), (x + w, y + h), (0, 0, 255), 2)\n",
    "cv2.putText(frame[y:y + h, x:x + w], predicted_person,\n",
    "        (6,h - 4), cv2.FONT_HERSHEY_SIMPLEX, 1, (255, 255, 255), 2)\n"
   ]
  }
 ],
 "metadata": {
  "anaconda-cloud": {},
  "kernelspec": {
   "display_name": "Python 3",
   "language": "python",
   "name": "python3"
  },
  "language_info": {
   "codemirror_mode": {
    "name": "ipython",
    "version": 3
   },
   "file_extension": ".py",
   "mimetype": "text/x-python",
   "name": "python",
   "nbconvert_exporter": "python",
   "pygments_lexer": "ipython3",
   "version": "3.7.0"
  }
 },
 "nbformat": 4,
 "nbformat_minor": 1
}
